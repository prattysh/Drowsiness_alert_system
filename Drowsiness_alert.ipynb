{
 "cells": [
  {
   "cell_type": "code",
   "execution_count": 1,
   "id": "b5312d8c-2cfc-4550-abc0-bed01ca5eb27",
   "metadata": {},
   "outputs": [],
   "source": [
    "import cv2\n",
    "import mediapipe as mp"
   ]
  },
  {
   "cell_type": "code",
   "execution_count": 2,
   "id": "55b497f4-6e7c-44f8-b308-8abe75e0b403",
   "metadata": {},
   "outputs": [],
   "source": [
    "mp_face_mesh = mp.solutions.face_mesh\n",
    "face_mesh = mp_face_mesh.FaceMesh(static_image_mode=False,\n",
    "                                   max_num_faces=1,\n",
    "                                   refine_landmarks=True,\n",
    "                                   min_detection_confidence=0.5,\n",
    "                                   min_tracking_confidence=0.5)\n",
    "\n",
    "mp_drawing = mp.solutions.drawing_utils"
   ]
  },
  {
   "cell_type": "code",
   "execution_count": 5,
   "id": "335194fa-ee0a-4f70-ada3-de56ba38c8eb",
   "metadata": {},
   "outputs": [],
   "source": [
    "from math import dist\n",
    "def euclidean_distance(point1, point2):\n",
    "    return dist(point1, point2)"
   ]
  },
  {
   "cell_type": "code",
   "execution_count": 7,
   "id": "f3cd6db3-71b0-4810-baa2-978ecf24320d",
   "metadata": {},
   "outputs": [],
   "source": [
    "def calculate_ear(landmarks, eye_indices):\n",
    "    left = landmarks[eye_indices[0]]\n",
    "    right = landmarks[eye_indices[3]]\n",
    "\n",
    "    top_center = (\n",
    "        (landmarks[eye_indices[1]][0] + landmarks[eye_indices[2]][0]) / 2,\n",
    "        (landmarks[eye_indices[1]][1] + landmarks[eye_indices[2]][1]) / 2\n",
    "    )\n",
    "    bottom_center = (\n",
    "        (landmarks[eye_indices[4]][0] + landmarks[eye_indices[5]][0]) / 2,\n",
    "        (landmarks[eye_indices[4]][1] + landmarks[eye_indices[5]][1]) / 2\n",
    "    )\n",
    "\n",
    "    horizontal_length = euclidean_distance(left, right)\n",
    "    vertical_length = euclidean_distance(top_center, bottom_center)\n",
    "\n",
    "    ear = vertical_length / horizontal_length\n",
    "    return ear"
   ]
  },
  {
   "cell_type": "code",
   "execution_count": 8,
   "id": "16d60fac-f96d-439c-86b4-676b12a2f6c3",
   "metadata": {},
   "outputs": [],
   "source": [
    "LEFT_EYE_INDICES = [33, 160, 158, 133, 153, 144]  \n",
    "RIGHT_EYE_INDICES = [362, 385, 387, 263, 373, 380]"
   ]
  },
  {
   "cell_type": "code",
   "execution_count": 10,
   "id": "87810ba3-0b77-4d0b-9820-396eb7cfc195",
   "metadata": {},
   "outputs": [],
   "source": [
    "UPPER_LIP_TOP = 13\n",
    "LOWER_LIP_BOTTOM = 14"
   ]
  },
  {
   "cell_type": "code",
   "execution_count": 11,
   "id": "e566d02d-74d2-4253-a465-e376a1b31a57",
   "metadata": {},
   "outputs": [],
   "source": [
    "def calculate_mouth_opening(landmarks):\n",
    "    top = landmarks[UPPER_LIP_TOP]\n",
    "    bottom = landmarks[LOWER_LIP_BOTTOM]\n",
    "    return euclidean_distance(top, bottom)"
   ]
  },
  {
   "cell_type": "code",
   "execution_count": null,
   "id": "aa1be0e3-8fe0-4af5-8246-52df60134370",
   "metadata": {},
   "outputs": [],
   "source": [
    "import cv2\n",
    "import threading\n",
    "from playsound import playsound\n",
    "def play_alert():\n",
    "    threading.Thread(target=playsound, args=(\"alert.mp3\",), daemon=True).start()\n",
    "\n",
    "EAR_THRESHOLD = 0.25\n",
    "EAR_CONSEC_FRAMES = 20\n",
    "MOUTH_OPEN_THRESHOLD = 25\n",
    "YAWN_CONSEC_FRAMES = 15\n",
    "\n",
    "counter = 0\n",
    "yawn_counter = 0\n",
    "\n",
    "cap = cv2.VideoCapture(0)\n",
    "\n",
    "while True:\n",
    "    success, frame = cap.read()\n",
    "    if not success:\n",
    "        break\n",
    "\n",
    "    frame_rgb = cv2.cvtColor(frame, cv2.COLOR_BGR2RGB)\n",
    "    results = face_mesh.process(frame_rgb)\n",
    "\n",
    "    if results.multi_face_landmarks:\n",
    "        for face_landmarks in results.multi_face_landmarks:\n",
    "            h, w, _ = frame.shape\n",
    "            landmarks = [(int(pt.x * w), int(pt.y * h)) for pt in face_landmarks.landmark]\n",
    "\n",
    "            # === EAR Calculation ===\n",
    "            left_ear = calculate_ear(landmarks, LEFT_EYE_INDICES)\n",
    "            right_ear = calculate_ear(landmarks, RIGHT_EYE_INDICES)\n",
    "            avg_ear = (left_ear + right_ear) / 2\n",
    "\n",
    "            if avg_ear < EAR_THRESHOLD:\n",
    "                counter += 1\n",
    "                if counter == EAR_CONSEC_FRAMES:\n",
    "                    cv2.putText(frame, \"DROWSINESS ALERT!\", (30, 100),\n",
    "                                cv2.FONT_HERSHEY_SIMPLEX, 1.2, (0, 0, 255), 3)\n",
    "                    play_alert()\n",
    "            else:\n",
    "                counter = 0\n",
    "\n",
    "            mouth_opening = euclidean_distance(landmarks[13], landmarks[14])\n",
    "            if mouth_opening > MOUTH_OPEN_THRESHOLD:\n",
    "                yawn_counter += 1\n",
    "                if yawn_counter == YAWN_CONSEC_FRAMES:\n",
    "                    cv2.putText(frame, \"YAWNING ALERT!\", (30, 140),\n",
    "                                cv2.FONT_HERSHEY_SIMPLEX, 1.2, (255, 0, 0), 3)\n",
    "                    play_alert()\n",
    "            else:\n",
    "                yawn_counter = 0\n",
    "\n",
    "            cv2.putText(frame, f'EAR: {avg_ear:.2f}', (30, 50),\n",
    "                        cv2.FONT_HERSHEY_SIMPLEX, 0.8, (0, 255, 0), 2)\n",
    "            cv2.putText(frame, f'Mouth: {mouth_opening:.2f}', (30, 80),\n",
    "                        cv2.FONT_HERSHEY_SIMPLEX, 0.8, (255, 255, 0), 2)\n",
    "\n",
    "    cv2.imshow(\"Drowsiness & Yawning Detection\", frame)\n",
    "    if cv2.waitKey(1) & 0xFF == ord('q'):\n",
    "        break\n",
    "\n",
    "cap.release()\n",
    "cv2.destroyAllWindows()"
   ]
  }
 ],
 "metadata": {
  "kernelspec": {
   "display_name": "Python 3 (ipykernel)",
   "language": "python",
   "name": "python3"
  },
  "language_info": {
   "codemirror_mode": {
    "name": "ipython",
    "version": 3
   },
   "file_extension": ".py",
   "mimetype": "text/x-python",
   "name": "python",
   "nbconvert_exporter": "python",
   "pygments_lexer": "ipython3",
   "version": "3.12.3"
  }
 },
 "nbformat": 4,
 "nbformat_minor": 5
}
